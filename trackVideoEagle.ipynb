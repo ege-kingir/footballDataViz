{
 "cells": [
  {
   "cell_type": "code",
   "execution_count": 16,
   "id": "b41518b2-cefc-4d8c-97cc-66ebd6b116ab",
   "metadata": {},
   "outputs": [
    {
     "data": {
      "text/plain": [
       "'C:/Users/egeki/OneDrive/Masaüstü/football/Eagle/output/kasimpasaGsGoal2/osimhenSecondGoalHighRes.mp4'"
      ]
     },
     "execution_count": 16,
     "metadata": {},
     "output_type": "execute_result"
    }
   ],
   "source": [
    "# pip install mplsoccer\n",
    "import pandas as pd\n",
    "import cv2\n",
    "import numpy as np\n",
    "from mplsoccer import Pitch\n",
    "import matplotlib.pyplot as plt\n",
    "from io import BytesIO\n",
    "import sys\n",
    "\n",
    "sys.path.append(\"C:/Users/egeki/OneDrive/Masaüstü/football/Eagle/\")\n",
    "from eagle.utils.io import write_video\n",
    "import json\n",
    "\n",
    "df = pd.read_json(\"C:/Users/egeki/OneDrive/Masaüstü/football/Eagle/output/kasimpasaGsGoal2/raw_data.json\").fillna(value=np.nan)\n",
    "with open(\"C:/Users/egeki/OneDrive/Masaüstü/football/Eagle/output/kasimpasaGsGoal2/metadata.json\") as f:\n",
    "    metadata = json.load(f)\n",
    "fps = metadata[\"fps\"]\n",
    "team_mapping = metadata[\"team_mapping\"]\n",
    "team_mapping[\"19\"] = 0\n",
    "\n",
    "to_draw = [x for x in df.columns if \"video\" not in x and x not in [\"Bottom_Left\", \"Top_Left\", \"Top_Right\", \"Bottom_Right\"]]\n",
    "pitch = Pitch(pitch_type=\"uefa\", pitch_color=\"None\", goal_type=\"box\")\n",
    "\n",
    "out = []\n",
    "for i, row in df.iterrows():\n",
    "    buffer = BytesIO()\n",
    "    fig, ax = plt.subplots(figsize=(8, 12))\n",
    "    pitch.draw(ax)\n",
    "    fig.set_facecolor(\"black\")\n",
    "\n",
    "    boundaries = row[[\"Bottom_Left\", \"Top_Left\", \"Top_Right\", \"Bottom_Right\", \"Bottom_Left\"]].values.tolist()\n",
    "    polygon = plt.Polygon(boundaries, facecolor=\"white\", zorder=1, closed=True, alpha=0.3)\n",
    "    ax.add_patch(polygon)\n",
    "\n",
    "    for col in to_draw:\n",
    "        if type(row[col]) == float:\n",
    "            continue\n",
    "        x, y = row[col]\n",
    "\n",
    "        if \"Ball\" in col:\n",
    "            ax.scatter(x, y, color=\"white\", zorder=5, facecolors=\"none\", edgecolors=\"white\", s=50)\n",
    "        else:\n",
    "            id = int(col.split(\"_\")[1])\n",
    "            if \"Goalkeeper\" in col:\n",
    "                color = \"green\"\n",
    "            else:\n",
    "                if str(id) not in team_mapping:  # use string because json keys are always strings\n",
    "                    continue\n",
    "                team = team_mapping[str(id)]\n",
    "                if team == 1:\n",
    "                    color = \"#F36C21\"\n",
    "                else:\n",
    "                    color = \"#43A1D5\"\n",
    "\n",
    "            ax.scatter(x, y, color=color, zorder=5, s=100)\n",
    "\n",
    "    plt.savefig(buffer, format=\"png\", bbox_inches=\"tight\", pad_inches=0)\n",
    "    plt.close()\n",
    "    buffer.seek(0)\n",
    "    img = cv2.imdecode(np.frombuffer(buffer.read(), np.uint8), 1)\n",
    "    out.append(img)\n",
    "\n",
    "write_video(out, \"C:/Users/egeki/OneDrive/Masaüstü/football/Eagle/output/kasimpasaGsGoal2/osimhenSecondGoalHighRes.mp4\", fps=fps)"
   ]
  },
  {
   "cell_type": "code",
   "execution_count": 9,
   "id": "455aa27e-b314-4e54-92f7-db07949f14d9",
   "metadata": {},
   "outputs": [
    {
     "data": {
      "text/plain": [
       "'C:\\\\Users\\\\egeki'"
      ]
     },
     "execution_count": 9,
     "metadata": {},
     "output_type": "execute_result"
    }
   ],
   "source": [
    "# ffmpeg -i annotated.mp4 -i osimhenSecondGoalHighRes.mp4 -filter_complex \"[1:v]scale=600:336,format=rgba,colorchannelmixer=aa=0.6[ov]; [0:v][ov]overlay=(W-w)/2:H-h\" osiGoal2_overlay.mp4"
   ]
  }
 ],
 "metadata": {
  "kernelspec": {
   "display_name": "Python 3 (ipykernel)",
   "language": "python",
   "name": "python3"
  },
  "language_info": {
   "codemirror_mode": {
    "name": "ipython",
    "version": 3
   },
   "file_extension": ".py",
   "mimetype": "text/x-python",
   "name": "python",
   "nbconvert_exporter": "python",
   "pygments_lexer": "ipython3",
   "version": "3.9.20"
  }
 },
 "nbformat": 4,
 "nbformat_minor": 5
}
